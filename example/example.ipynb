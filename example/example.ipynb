{
 "cells": [
  {
   "cell_type": "code",
   "execution_count": null,
   "id": "abed75f7",
   "metadata": {},
   "outputs": [],
   "source": [
    "from ezdir import up, find, parent\n",
    "import os\n",
    "import sys"
   ]
  },
  {
   "cell_type": "code",
   "execution_count": null,
   "id": "f34f2262",
   "metadata": {},
   "outputs": [],
   "source": [
    "parent() # Gets current filepath parent directory"
   ]
  },
  {
   "cell_type": "code",
   "execution_count": null,
   "id": "8a1140cd",
   "metadata": {},
   "outputs": [],
   "source": [
    "up(1) # Go up two levels\n"
   ]
  },
  {
   "cell_type": "code",
   "execution_count": null,
   "id": "fcfb21a3",
   "metadata": {},
   "outputs": [],
   "source": [
    "find(\"GitProjects\") # Change to a parent folder named 'GitProjects'"
   ]
  }
 ],
 "metadata": {
  "kernelspec": {
   "display_name": "aws_toolkit_demo",
   "language": "python",
   "name": "python3"
  },
  "language_info": {
   "codemirror_mode": {
    "name": "ipython",
    "version": 3
   },
   "file_extension": ".py",
   "mimetype": "text/x-python",
   "name": "python",
   "nbconvert_exporter": "python",
   "pygments_lexer": "ipython3",
   "version": "3.9.16"
  }
 },
 "nbformat": 4,
 "nbformat_minor": 5
}
