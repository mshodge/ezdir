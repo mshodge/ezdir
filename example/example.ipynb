{
 "cells": [
  {
   "cell_type": "code",
   "execution_count": 1,
   "id": "abed75f7",
   "metadata": {},
   "outputs": [],
   "source": [
    "import ezdir"
   ]
  },
  {
   "cell_type": "code",
   "execution_count": 11,
   "id": "f34f2262",
   "metadata": {},
   "outputs": [
    {
     "data": {
      "text/plain": [
       "'/Users/michael.hodge/GitProjects/ezdirect/example'"
      ]
     },
     "execution_count": 11,
     "metadata": {},
     "output_type": "execute_result"
    }
   ],
   "source": [
    "ezdir.parent() # Gets current filepath parent directory"
   ]
  },
  {
   "cell_type": "code",
   "execution_count": null,
   "id": "8a1140cd",
   "metadata": {},
   "outputs": [
    {
     "name": "stderr",
     "output_type": "stream",
     "text": [
      "INFO:ezdir.changer:Changed to /Users/michael.hodge/GitProjects/ezdirect\n"
     ]
    },
    {
     "data": {
      "text/plain": [
       "'/Users/michael.hodge/GitProjects/ezdirect'"
      ]
     },
     "execution_count": 7,
     "metadata": {},
     "output_type": "execute_result"
    }
   ],
   "source": [
    "ezdir.up(1) # Change current working directory to one level up"
   ]
  },
  {
   "cell_type": "code",
   "execution_count": 8,
   "id": "51ad9469",
   "metadata": {},
   "outputs": [
    {
     "data": {
      "text/plain": [
       "'/Users/michael.hodge/GitProjects/ezdirect'"
      ]
     },
     "execution_count": 8,
     "metadata": {},
     "output_type": "execute_result"
    }
   ],
   "source": [
    "import os\n",
    "os.getcwd()"
   ]
  },
  {
   "cell_type": "code",
   "execution_count": null,
   "id": "fcfb21a3",
   "metadata": {},
   "outputs": [
    {
     "name": "stderr",
     "output_type": "stream",
     "text": [
      "INFO:ezdir.changer:Changed to /Users/michael.hodge/GitProjects\n"
     ]
    },
    {
     "data": {
      "text/plain": [
       "'/Users/michael.hodge/GitProjects'"
      ]
     },
     "execution_count": 9,
     "metadata": {},
     "output_type": "execute_result"
    }
   ],
   "source": [
    "ezdir.find(\"GitProjects\") # Change current working directory to a parent folder named 'GitProjects'"
   ]
  },
  {
   "cell_type": "code",
   "execution_count": 10,
   "id": "b32ce26d",
   "metadata": {},
   "outputs": [
    {
     "data": {
      "text/plain": [
       "'/Users/michael.hodge/GitProjects'"
      ]
     },
     "execution_count": 10,
     "metadata": {},
     "output_type": "execute_result"
    }
   ],
   "source": [
    "import os\n",
    "os.getcwd()"
   ]
  }
 ],
 "metadata": {
  "kernelspec": {
   "display_name": "aws_toolkit_demo",
   "language": "python",
   "name": "python3"
  },
  "language_info": {
   "codemirror_mode": {
    "name": "ipython",
    "version": 3
   },
   "file_extension": ".py",
   "mimetype": "text/x-python",
   "name": "python",
   "nbconvert_exporter": "python",
   "pygments_lexer": "ipython3",
   "version": "3.9.16"
  }
 },
 "nbformat": 4,
 "nbformat_minor": 5
}
